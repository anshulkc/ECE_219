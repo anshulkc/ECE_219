{
 "cells": [
  {
   "cell_type": "code",
   "execution_count": 7,
   "metadata": {},
   "outputs": [],
   "source": [
    "import pandas as pd\n",
    "import numpy as np\n",
    "import matplotlib as plt"
   ]
  },
  {
   "cell_type": "code",
   "execution_count": 4,
   "metadata": {},
   "outputs": [
    {
     "name": "stdout",
     "output_type": "stream",
     "text": [
      "                                           full_text  \\\n",
      "0  'Personalize Your NBA App Experience for the '...   \n",
      "1  'Mike Will attends the Pre-GRAMMY Gala and GRA...   \n",
      "2  'The Golden State Warriors are struggling to f...   \n",
      "3  'On Nov. 28, the NBA and Nike will collaborate...   \n",
      "4  'The NBA announced additions and innovations t...   \n",
      "\n",
      "                                             summary  \\\n",
      "0  'Personalize Your NBA App Experience for the '...   \n",
      "1  'Mike WiLL Made-It has secured a partnership w...   \n",
      "2  'The Golden State Warriors are struggling to f...   \n",
      "3  'On Nov. 28, the NBA and Nike will collaborate...   \n",
      "4  'The NBA announced additions and innovations t...   \n",
      "\n",
      "                                            keywords  \\\n",
      "0  ['original', 'content', 'live', 'slate', 'game...   \n",
      "1  ['lead', 'espn', 'nbas', 'madeit', 'nba', 'lat...   \n",
      "2  ['insider', 'york', 'thing', 'nbc', 'tag', 'nb...   \n",
      "3  ['watch', 'telecast', 'ultimate', 'membership'...   \n",
      "4  ['experience', 'bring', 'media', 'crennan', 'n...   \n",
      "\n",
      "                publish_date                               authors  \\\n",
      "0                        NaN                  ['Official Release']   \n",
      "1  2023-10-18 16:22:29+00:00                      ['Marc Griffin']   \n",
      "2                        NaN                                    []   \n",
      "3                        NaN                  ['Official Release']   \n",
      "4  2023-10-17 12:00:17+00:00  ['Chris Novak', 'About Chris Novak']   \n",
      "\n",
      "                                                 url  leaf_label root_label  \n",
      "0  https://www.nba.com/news/nba-app-new-features-...  basketball     sports  \n",
      "1  https://www.vibe.com/news/entertainment/mike-w...  basketball     sports  \n",
      "2       https://www.nbcnewyork.com/tag/featured-nba/  basketball     sports  \n",
      "3  https://www.nba.com/news/watch-nba-games-ultim...  basketball     sports  \n",
      "4  https://awfulannouncing.com/tech/nba-app-2023-...  basketball     sports  \n",
      "(3476, 8)\n"
     ]
    }
   ],
   "source": [
    "df = pd.read_csv('/Users/anshulkc/Downloads/Project1-ClassificationDataset.csv')\n",
    "\n",
    "print(df.head())\n",
    "print(df.shape)"
   ]
  },
  {
   "cell_type": "markdown",
   "metadata": {},
   "source": [
    "When we use df.head(), we get that the structure of the CSV for the first five examples has 8 features that full_text, summary, keywords, etc. Additionally, when we use df.shape, we can see the samples and features represented as a tuple, with the x-value as the number of samples, and the y-value as the features. \n",
    "\n",
    "1) We can see that there are 3476 samples and 8 features in the dataset based on df.shape"
   ]
  },
  {
   "cell_type": "code",
   "execution_count": 8,
   "metadata": {},
   "outputs": [
    {
     "ename": "ValueError",
     "evalue": "hist method requires numerical or datetime columns, nothing to plot.",
     "output_type": "error",
     "traceback": [
      "\u001b[0;31m---------------------------------------------------------------------------\u001b[0m",
      "\u001b[0;31mValueError\u001b[0m                                Traceback (most recent call last)",
      "\u001b[1;32m/Users/anshulkc/ECE_219/project_1.ipynb Cell 4\u001b[0m line \u001b[0;36m1\n\u001b[0;32m----> <a href='vscode-notebook-cell:/Users/anshulkc/ECE_219/project_1.ipynb#X11sZmlsZQ%3D%3D?line=0'>1</a>\u001b[0m df\u001b[39m.\u001b[39;49mhist(column\u001b[39m=\u001b[39;49m\u001b[39m'\u001b[39;49m\u001b[39mfull_text\u001b[39;49m\u001b[39m'\u001b[39;49m)\n",
      "File \u001b[0;32m~/ECE_219/.venv/lib/python3.8/site-packages/pandas/plotting/_core.py:223\u001b[0m, in \u001b[0;36mhist_frame\u001b[0;34m(data, column, by, grid, xlabelsize, xrot, ylabelsize, yrot, ax, sharex, sharey, figsize, layout, bins, backend, legend, **kwargs)\u001b[0m\n\u001b[1;32m    134\u001b[0m \u001b[39m\u001b[39m\u001b[39m\"\"\"\u001b[39;00m\n\u001b[1;32m    135\u001b[0m \u001b[39mMake a histogram of the DataFrame's columns.\u001b[39;00m\n\u001b[1;32m    136\u001b[0m \n\u001b[0;32m   (...)\u001b[0m\n\u001b[1;32m    220\u001b[0m \u001b[39m    >>> hist = df.hist(bins=3)\u001b[39;00m\n\u001b[1;32m    221\u001b[0m \u001b[39m\"\"\"\u001b[39;00m\n\u001b[1;32m    222\u001b[0m plot_backend \u001b[39m=\u001b[39m _get_plot_backend(backend)\n\u001b[0;32m--> 223\u001b[0m \u001b[39mreturn\u001b[39;00m plot_backend\u001b[39m.\u001b[39;49mhist_frame(\n\u001b[1;32m    224\u001b[0m     data,\n\u001b[1;32m    225\u001b[0m     column\u001b[39m=\u001b[39;49mcolumn,\n\u001b[1;32m    226\u001b[0m     by\u001b[39m=\u001b[39;49mby,\n\u001b[1;32m    227\u001b[0m     grid\u001b[39m=\u001b[39;49mgrid,\n\u001b[1;32m    228\u001b[0m     xlabelsize\u001b[39m=\u001b[39;49mxlabelsize,\n\u001b[1;32m    229\u001b[0m     xrot\u001b[39m=\u001b[39;49mxrot,\n\u001b[1;32m    230\u001b[0m     ylabelsize\u001b[39m=\u001b[39;49mylabelsize,\n\u001b[1;32m    231\u001b[0m     yrot\u001b[39m=\u001b[39;49myrot,\n\u001b[1;32m    232\u001b[0m     ax\u001b[39m=\u001b[39;49max,\n\u001b[1;32m    233\u001b[0m     sharex\u001b[39m=\u001b[39;49msharex,\n\u001b[1;32m    234\u001b[0m     sharey\u001b[39m=\u001b[39;49msharey,\n\u001b[1;32m    235\u001b[0m     figsize\u001b[39m=\u001b[39;49mfigsize,\n\u001b[1;32m    236\u001b[0m     layout\u001b[39m=\u001b[39;49mlayout,\n\u001b[1;32m    237\u001b[0m     legend\u001b[39m=\u001b[39;49mlegend,\n\u001b[1;32m    238\u001b[0m     bins\u001b[39m=\u001b[39;49mbins,\n\u001b[1;32m    239\u001b[0m     \u001b[39m*\u001b[39;49m\u001b[39m*\u001b[39;49mkwargs,\n\u001b[1;32m    240\u001b[0m )\n",
      "File \u001b[0;32m~/ECE_219/.venv/lib/python3.8/site-packages/pandas/plotting/_matplotlib/hist.py:514\u001b[0m, in \u001b[0;36mhist_frame\u001b[0;34m(data, column, by, grid, xlabelsize, xrot, ylabelsize, yrot, ax, sharex, sharey, figsize, layout, bins, legend, **kwds)\u001b[0m\n\u001b[1;32m    511\u001b[0m naxes \u001b[39m=\u001b[39m \u001b[39mlen\u001b[39m(data\u001b[39m.\u001b[39mcolumns)\n\u001b[1;32m    513\u001b[0m \u001b[39mif\u001b[39;00m naxes \u001b[39m==\u001b[39m \u001b[39m0\u001b[39m:\n\u001b[0;32m--> 514\u001b[0m     \u001b[39mraise\u001b[39;00m \u001b[39mValueError\u001b[39;00m(\n\u001b[1;32m    515\u001b[0m         \u001b[39m\"\u001b[39m\u001b[39mhist method requires numerical or datetime columns, nothing to plot.\u001b[39m\u001b[39m\"\u001b[39m\n\u001b[1;32m    516\u001b[0m     )\n\u001b[1;32m    518\u001b[0m fig, axes \u001b[39m=\u001b[39m create_subplots(\n\u001b[1;32m    519\u001b[0m     naxes\u001b[39m=\u001b[39mnaxes,\n\u001b[1;32m    520\u001b[0m     ax\u001b[39m=\u001b[39max,\n\u001b[0;32m   (...)\u001b[0m\n\u001b[1;32m    525\u001b[0m     layout\u001b[39m=\u001b[39mlayout,\n\u001b[1;32m    526\u001b[0m )\n\u001b[1;32m    527\u001b[0m _axes \u001b[39m=\u001b[39m flatten_axes(axes)\n",
      "\u001b[0;31mValueError\u001b[0m: hist method requires numerical or datetime columns, nothing to plot."
     ]
    }
   ],
   "source": [
    "df['alpha_numeric_count'] = df['full_text'].str.count(r'[a-zA-z0-9]')\n",
    "df['alpha_numeric_count'].hist(color='blue')"
   ]
  }
 ],
 "metadata": {
  "kernelspec": {
   "display_name": ".venv",
   "language": "python",
   "name": "python3"
  },
  "language_info": {
   "codemirror_mode": {
    "name": "ipython",
    "version": 3
   },
   "file_extension": ".py",
   "mimetype": "text/x-python",
   "name": "python",
   "nbconvert_exporter": "python",
   "pygments_lexer": "ipython3",
   "version": "3.8.19"
  }
 },
 "nbformat": 4,
 "nbformat_minor": 2
}
